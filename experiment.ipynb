{
 "cells": [
  {
   "cell_type": "code",
   "execution_count": 13,
   "id": "be16f17d",
   "metadata": {},
   "outputs": [],
   "source": [
    "from architectures.linear_attributes_autoencoder import Builder as AttrVAEBuilder\n",
    "\n",
    "from architectures.gru_seq2seq_bidirectional_enc import Builder as AudioVAEBuilder\n",
    "from architectures.gru_seq2seq_bidirectional_enc import Wrapper as AudioVAEWrapper\n",
    "\n",
    "from readers import AudioReader"
   ]
  },
  {
   "cell_type": "markdown",
   "id": "8fd07e7f",
   "metadata": {},
   "source": [
    "# Model Definition"
   ]
  },
  {
   "cell_type": "code",
   "execution_count": 14,
   "id": "4df50562",
   "metadata": {},
   "outputs": [],
   "source": [
    "attr_vae = AttrVAEBuilder().build(\n",
    "    128,\n",
    "    [32, 128, 512]\n",
    ")"
   ]
  },
  {
   "cell_type": "code",
   "execution_count": 15,
   "id": "9d573616",
   "metadata": {},
   "outputs": [
    {
     "data": {
      "text/plain": [
       "ImageVAE(\n",
       "  (encoder): LinearEncoder(\n",
       "    (layers): Sequential(\n",
       "      (0): Sequential(\n",
       "        (0): Linear(in_features=32, out_features=128, bias=True)\n",
       "        (1): BatchNorm1d(128, eps=1e-05, momentum=0.1, affine=True, track_running_stats=True)\n",
       "        (2): ReLU(inplace=True)\n",
       "      )\n",
       "      (1): Sequential(\n",
       "        (0): Linear(in_features=128, out_features=512, bias=True)\n",
       "        (1): BatchNorm1d(512, eps=1e-05, momentum=0.1, affine=True, track_running_stats=True)\n",
       "        (2): ReLU(inplace=True)\n",
       "      )\n",
       "    )\n",
       "    (mu_proj): Linear(in_features=512, out_features=128, bias=True)\n",
       "    (logvar_proj): Linear(in_features=512, out_features=128, bias=True)\n",
       "  )\n",
       "  (decoder): LinearDecoder(\n",
       "    (latent_proj): Linear(in_features=128, out_features=512, bias=True)\n",
       "    (decoder_blocks): Sequential(\n",
       "      (0): Sequential(\n",
       "        (0): Linear(in_features=512, out_features=128, bias=True)\n",
       "        (1): BatchNorm1d(128, eps=1e-05, momentum=0.1, affine=True, track_running_stats=True)\n",
       "        (2): ReLU(inplace=True)\n",
       "      )\n",
       "      (1): Sequential(\n",
       "        (0): Linear(in_features=128, out_features=32, bias=True)\n",
       "        (1): BatchNorm1d(32, eps=1e-05, momentum=0.1, affine=True, track_running_stats=True)\n",
       "        (2): ReLU(inplace=True)\n",
       "      )\n",
       "    )\n",
       "  )\n",
       ")"
      ]
     },
     "execution_count": 15,
     "metadata": {},
     "output_type": "execute_result"
    }
   ],
   "source": [
    "attr_vae"
   ]
  },
  {
   "cell_type": "code",
   "execution_count": 31,
   "id": "d108e43d",
   "metadata": {},
   "outputs": [],
   "source": [
    "builder = AudioVAEBuilder()\n",
    "audio_model = builder.build(\n",
    "    embedding_dim=2050,\n",
    "    latent_dim=128,\n",
    "    context_length=944,\n",
    "    num_layers=1\n",
    ")"
   ]
  },
  {
   "cell_type": "code",
   "execution_count": 32,
   "id": "730fa2b9",
   "metadata": {},
   "outputs": [],
   "source": [
    "audio_wrapper = AudioVAEWrapper(audio_model)"
   ]
  },
  {
   "cell_type": "markdown",
   "id": "4378ffc7",
   "metadata": {},
   "source": [
    "# Data preparation"
   ]
  },
  {
   "cell_type": "code",
   "execution_count": 33,
   "id": "ea16cd69",
   "metadata": {},
   "outputs": [],
   "source": [
    "from utils.audio import (\n",
    "    concat_FT,\n",
    "    reverse_FT\n",
    ")"
   ]
  },
  {
   "cell_type": "code",
   "execution_count": 34,
   "id": "f11ddece",
   "metadata": {},
   "outputs": [],
   "source": [
    "fourier_params = {\n",
    "    'fs': 16000,\n",
    "    'window_size': 2048,\n",
    "    'window_shift': 1024,\n",
    "    'type': \"hamming\"\n",
    "}"
   ]
  },
  {
   "cell_type": "code",
   "execution_count": 21,
   "id": "675623d9",
   "metadata": {},
   "outputs": [],
   "source": [
    "dataset = AudioReader(fourier_params)"
   ]
  },
  {
   "cell_type": "code",
   "execution_count": 35,
   "id": "dfdcc51f",
   "metadata": {},
   "outputs": [
    {
     "name": "stdout",
     "output_type": "stream",
     "text": [
      "torch.Size([1, 944, 1025])\n"
     ]
    }
   ],
   "source": [
    "for audio in dataset:\n",
    "    print(audio.shape)\n",
    "    break"
   ]
  },
  {
   "cell_type": "code",
   "execution_count": 36,
   "id": "182f3dcc",
   "metadata": {},
   "outputs": [
    {
     "data": {
      "text/plain": [
       "ImageVAE(\n",
       "  (encoder): BidirectionalEncoder(\n",
       "    (encoder): GRU(2050, 2050, batch_first=True, bidirectional=True)\n",
       "    (mu_proj): Sequential(\n",
       "      (0): Linear(in_features=4100, out_features=128, bias=True)\n",
       "    )\n",
       "    (sigma_proj): Sequential(\n",
       "      (0): Linear(in_features=4100, out_features=128, bias=True)\n",
       "    )\n",
       "  )\n",
       "  (decoder): AutoregressiveDecoder(\n",
       "    (proj_h): Linear(in_features=128, out_features=2050, bias=True)\n",
       "    (decoder): GRU(2050, 2050, batch_first=True)\n",
       "  )\n",
       ")"
      ]
     },
     "execution_count": 36,
     "metadata": {},
     "output_type": "execute_result"
    }
   ],
   "source": [
    "audio_model.cuda()"
   ]
  },
  {
   "cell_type": "code",
   "execution_count": 37,
   "id": "914bcc3e",
   "metadata": {},
   "outputs": [
    {
     "name": "stdout",
     "output_type": "stream",
     "text": [
      "torch.Size([1, 944, 2050]) torch.Size([1, 944, 2050])\n"
     ]
    }
   ],
   "source": [
    "for audio in dataset:\n",
    "    X = concat_FT(audio).cuda()\n",
    "    output = audio_model(X)\n",
    "    print(X.shape, output[0].shape)\n",
    "    break"
   ]
  }
 ],
 "metadata": {
  "kernelspec": {
   "display_name": "xlstm_up",
   "language": "python",
   "name": "python3"
  },
  "language_info": {
   "codemirror_mode": {
    "name": "ipython",
    "version": 3
   },
   "file_extension": ".py",
   "mimetype": "text/x-python",
   "name": "python",
   "nbconvert_exporter": "python",
   "pygments_lexer": "ipython3",
   "version": "3.11.11"
  }
 },
 "nbformat": 4,
 "nbformat_minor": 5
}
