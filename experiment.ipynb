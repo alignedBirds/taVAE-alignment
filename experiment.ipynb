{
 "cells": [
  {
   "cell_type": "code",
   "execution_count": 2,
   "id": "be16f17d",
   "metadata": {},
   "outputs": [],
   "source": [
    "from architectures.linear_attributes_autoencoder import Builder as AttrVAEBuilder"
   ]
  },
  {
   "cell_type": "code",
   "execution_count": 4,
   "id": "4df50562",
   "metadata": {},
   "outputs": [],
   "source": [
    "attr_vae = AttrVAEBuilder().build(\n",
    "    128,\n",
    "    [32, 128, 512]\n",
    ")"
   ]
  },
  {
   "cell_type": "code",
   "execution_count": 5,
   "id": "9d573616",
   "metadata": {},
   "outputs": [
    {
     "data": {
      "text/plain": [
       "ImageVAE(\n",
       "  (encoder): LinearEncoder(\n",
       "    (layers): Sequential(\n",
       "      (0): Sequential(\n",
       "        (0): Linear(in_features=32, out_features=128, bias=True)\n",
       "        (1): BatchNorm1d(128, eps=1e-05, momentum=0.1, affine=True, track_running_stats=True)\n",
       "        (2): ReLU(inplace=True)\n",
       "      )\n",
       "      (1): Sequential(\n",
       "        (0): Linear(in_features=128, out_features=512, bias=True)\n",
       "        (1): BatchNorm1d(512, eps=1e-05, momentum=0.1, affine=True, track_running_stats=True)\n",
       "        (2): ReLU(inplace=True)\n",
       "      )\n",
       "    )\n",
       "    (mu_proj): Linear(in_features=512, out_features=128, bias=True)\n",
       "    (logvar_proj): Linear(in_features=512, out_features=128, bias=True)\n",
       "  )\n",
       "  (decoder): LinearDecoder(\n",
       "    (latent_proj): Linear(in_features=128, out_features=512, bias=True)\n",
       "    (decoder_blocks): Sequential(\n",
       "      (0): Sequential(\n",
       "        (0): Linear(in_features=512, out_features=128, bias=True)\n",
       "        (1): BatchNorm1d(128, eps=1e-05, momentum=0.1, affine=True, track_running_stats=True)\n",
       "        (2): ReLU(inplace=True)\n",
       "      )\n",
       "      (1): Sequential(\n",
       "        (0): Linear(in_features=128, out_features=32, bias=True)\n",
       "        (1): BatchNorm1d(32, eps=1e-05, momentum=0.1, affine=True, track_running_stats=True)\n",
       "        (2): ReLU(inplace=True)\n",
       "      )\n",
       "    )\n",
       "  )\n",
       ")"
      ]
     },
     "execution_count": 5,
     "metadata": {},
     "output_type": "execute_result"
    }
   ],
   "source": [
    "attr_vae"
   ]
  },
  {
   "cell_type": "markdown",
   "id": "4378ffc7",
   "metadata": {},
   "source": [
    "# Data preparation"
   ]
  },
  {
   "cell_type": "code",
   "execution_count": null,
   "id": "a32e4d31",
   "metadata": {},
   "outputs": [],
   "source": [
    "from "
   ]
  },
  {
   "cell_type": "code",
   "execution_count": 2,
   "id": "ea16cd69",
   "metadata": {},
   "outputs": [],
   "source": [
    "from utils.audio import (\n",
    "    load_ogg, \n",
    "    get_spectrogram_tensor\n",
    ")"
   ]
  },
  {
   "cell_type": "code",
   "execution_count": 3,
   "id": "f11ddece",
   "metadata": {},
   "outputs": [],
   "source": [
    "fourier_params = {\n",
    "    'fs': 16000,\n",
    "    'window_size': 2048,\n",
    "    'window_shift': 1024,\n",
    "    'type': \"hamming\"\n",
    "}"
   ]
  },
  {
   "cell_type": "code",
   "execution_count": 10,
   "id": "675623d9",
   "metadata": {},
   "outputs": [],
   "source": [
    "y = load_ogg(\"data/raw_data/train_audio/21038/iNat65519.ogg\", fourier_params['fs'])"
   ]
  },
  {
   "cell_type": "code",
   "execution_count": 11,
   "id": "210cb515",
   "metadata": {},
   "outputs": [
    {
     "data": {
      "text/plain": [
       "(1025, 5976, 1)"
      ]
     },
     "execution_count": 11,
     "metadata": {},
     "output_type": "execute_result"
    }
   ],
   "source": [
    "X = get_spectrogram_tensor(y, fourier_params)\n",
    "X.shape"
   ]
  },
  {
   "cell_type": "code",
   "execution_count": null,
   "id": "3965ae3f",
   "metadata": {},
   "outputs": [],
   "source": []
  }
 ],
 "metadata": {
  "kernelspec": {
   "display_name": "xlstm_up",
   "language": "python",
   "name": "python3"
  },
  "language_info": {
   "codemirror_mode": {
    "name": "ipython",
    "version": 3
   },
   "file_extension": ".py",
   "mimetype": "text/x-python",
   "name": "python",
   "nbconvert_exporter": "python",
   "pygments_lexer": "ipython3",
   "version": "3.11.11"
  }
 },
 "nbformat": 4,
 "nbformat_minor": 5
}
